{
 "cells": [
  {
   "cell_type": "markdown",
   "id": "ea3f4c8a-e7fc-4192-8bf1-cded3ca57446",
   "metadata": {},
   "source": [
    "TASK-1 Chatbot with Rule-based Responses\n"
   ]
  },
  {
   "cell_type": "code",
   "execution_count": 1,
   "id": "7c088b7f-365e-49d8-8845-28e7986c2b99",
   "metadata": {},
   "outputs": [
    {
     "name": "stdout",
     "output_type": "stream",
     "text": [
      "Hello! I am ChatBot. How can I assist you today?\n",
      "(Type 'exit' to end the conversation)\n"
     ]
    },
    {
     "name": "stdin",
     "output_type": "stream",
     "text": [
      "You:  Hi\n"
     ]
    },
    {
     "name": "stdout",
     "output_type": "stream",
     "text": [
      "ChatBot: Hello! How can I help you today?\n"
     ]
    },
    {
     "name": "stdin",
     "output_type": "stream",
     "text": [
      "You:  Hello\n"
     ]
    },
    {
     "name": "stdout",
     "output_type": "stream",
     "text": [
      "ChatBot: Hello! How can I help you today?\n"
     ]
    },
    {
     "name": "stdin",
     "output_type": "stream",
     "text": [
      "You:  how are you\n"
     ]
    },
    {
     "name": "stdout",
     "output_type": "stream",
     "text": [
      "ChatBot: I'm just a program, but I'm functioning as expected! How about you?\n"
     ]
    },
    {
     "name": "stdin",
     "output_type": "stream",
     "text": [
      "You:  exit\n"
     ]
    },
    {
     "name": "stdout",
     "output_type": "stream",
     "text": [
      "ChatBot: Goodbye! Have a great day!\n"
     ]
    }
   ],
   "source": [
    "def chatbot():\n",
    "    print(\"Hello! I am ChatBot. How can I assist you today?\")\n",
    "    print(\"(Type 'exit' to end the conversation)\")\n",
    "\n",
    "    while True:\n",
    "        user_input = input(\"You: \").strip().lower()\n",
    "\n",
    "        # Exit condition\n",
    "        if user_input == 'exit':\n",
    "            print(\"ChatBot: Goodbye! Have a great day!\")\n",
    "            break\n",
    "\n",
    "        # Rule-based responses\n",
    "        elif \"hello\" in user_input or \"hi\" in user_input:\n",
    "            print(\"ChatBot: Hello! How can I help you today?\")\n",
    "        elif \"how are you\" in user_input:\n",
    "            print(\"ChatBot: I'm just a program, but I'm functioning as expected! How about you?\")\n",
    "        elif \"your name\" in user_input:\n",
    "            print(\"ChatBot: My name is ChatBot. What's yours?\")\n",
    "        elif \"time\" in user_input:\n",
    "            from datetime import datetime\n",
    "            current_time = datetime.now().strftime(\"%H:%M:%S\")\n",
    "            print(f\"ChatBot: The current time is {current_time}.\")\n",
    "        elif \"date\" in user_input:\n",
    "            from datetime import datetime\n",
    "            current_date = datetime.now().strftime(\"%Y-%m-%d\")\n",
    "            print(f\"ChatBot: Today's date is {current_date}.\")\n",
    "        elif \"joke\" in user_input:\n",
    "            print(\"ChatBot: Why don't scientists trust atoms? Because they make up everything!\")\n",
    "        elif \"bye\" in user_input:\n",
    "            print(\"ChatBot: Goodbye! Take care!\")\n",
    "            break\n",
    "        else:\n",
    "            print(\"ChatBot: I'm sorry, I didn't understand that. Can you rephrase?\")\n",
    "\n",
    "\n",
    "if __name__ == \"__main__\":\n",
    "    chatbot()"
   ]
  },
  {
   "cell_type": "markdown",
   "id": "bca30fd9-0496-4e2d-b210-8c7dc066883c",
   "metadata": {},
   "source": [
    "TASK-2 TIC-TAC-TOE-AI"
   ]
  },
  {
   "cell_type": "code",
   "execution_count": 3,
   "id": "f8a3d61e-20f4-4f8e-85e0-20f141183ecb",
   "metadata": {},
   "outputs": [
    {
     "name": "stdout",
     "output_type": "stream",
     "text": [
      "Welcome to Tic-Tac-Toe! You are X, and I am O.\n",
      "  |   |  \n",
      "---------\n",
      "  |   |  \n",
      "---------\n",
      "  |   |  \n",
      "---------\n"
     ]
    },
    {
     "name": "stdin",
     "output_type": "stream",
     "text": [
      "Enter your move (row and column: 1 1 for top-left):  1 1\n"
     ]
    },
    {
     "name": "stdout",
     "output_type": "stream",
     "text": [
      "X |   |  \n",
      "---------\n",
      "  | O |  \n",
      "---------\n",
      "  |   |  \n",
      "---------\n"
     ]
    },
    {
     "name": "stdin",
     "output_type": "stream",
     "text": [
      "Enter your move (row and column: 1 1 for top-left):  1 3\n"
     ]
    },
    {
     "name": "stdout",
     "output_type": "stream",
     "text": [
      "X | O | X\n",
      "---------\n",
      "  | O |  \n",
      "---------\n",
      "  |   |  \n",
      "---------\n"
     ]
    },
    {
     "name": "stdin",
     "output_type": "stream",
     "text": [
      "Enter your move (row and column: 1 1 for top-left):  3 2\n"
     ]
    },
    {
     "name": "stdout",
     "output_type": "stream",
     "text": [
      "X | O | X\n",
      "---------\n",
      "O | O |  \n",
      "---------\n",
      "  | X |  \n",
      "---------\n"
     ]
    },
    {
     "name": "stdin",
     "output_type": "stream",
     "text": [
      "Enter your move (row and column: 1 1 for top-left):  2 3\n"
     ]
    },
    {
     "name": "stdout",
     "output_type": "stream",
     "text": [
      "X | O | X\n",
      "---------\n",
      "O | O | X\n",
      "---------\n",
      "  | X | O\n",
      "---------\n"
     ]
    },
    {
     "name": "stdin",
     "output_type": "stream",
     "text": [
      "Enter your move (row and column: 1 1 for top-left):  3 1\n"
     ]
    },
    {
     "name": "stdout",
     "output_type": "stream",
     "text": [
      "X | O | X\n",
      "---------\n",
      "O | O | X\n",
      "---------\n",
      "X | X | O\n",
      "---------\n",
      "It's a tie!\n"
     ]
    }
   ],
   "source": [
    "import math\n",
    "\n",
    "def print_board(board):\n",
    "    for row in board:\n",
    "        print(\" | \".join(row))\n",
    "        print(\"-\" * 9)\n",
    "\n",
    "def check_winner(board):\n",
    "    # Check rows, columns, and diagonals for a winner\n",
    "    for i in range(3):\n",
    "        if board[i][0] == board[i][1] == board[i][2] != \" \":\n",
    "            return board[i][0]\n",
    "        if board[0][i] == board[1][i] == board[2][i] != \" \":\n",
    "            return board[0][i]\n",
    "\n",
    "    if board[0][0] == board[1][1] == board[2][2] != \" \":\n",
    "        return board[0][0]\n",
    "    if board[0][2] == board[1][1] == board[2][0] != \" \":\n",
    "        return board[0][2]\n",
    "\n",
    "    return None\n",
    "\n",
    "def is_full(board):\n",
    "    return all(cell != \" \" for row in board for cell in row)\n",
    "\n",
    "def minimax(board, is_maximizing):\n",
    "    winner = check_winner(board)\n",
    "    if winner == \"O\":\n",
    "        return 1\n",
    "    elif winner == \"X\":\n",
    "        return -1\n",
    "    elif is_full(board):\n",
    "        return 0\n",
    "\n",
    "    if is_maximizing:\n",
    "        best_score = -math.inf\n",
    "        for i in range(3):\n",
    "            for j in range(3):\n",
    "                if board[i][j] == \" \":\n",
    "                    board[i][j] = \"O\"\n",
    "                    score = minimax(board, False)\n",
    "                    board[i][j] = \" \"\n",
    "                    best_score = max(best_score, score)\n",
    "        return best_score\n",
    "    else:\n",
    "        best_score = math.inf\n",
    "        for i in range(3):\n",
    "            for j in range(3):\n",
    "                if board[i][j] == \" \":\n",
    "                    board[i][j] = \"X\"\n",
    "                    score = minimax(board, True)\n",
    "                    board[i][j] = \" \"\n",
    "                    best_score = min(best_score, score)\n",
    "        return best_score\n",
    "\n",
    "def best_move(board):\n",
    "    best_score = -math.inf\n",
    "    move = None\n",
    "    for i in range(3):\n",
    "        for j in range(3):\n",
    "            if board[i][j] == \" \":\n",
    "                board[i][j] = \"O\"\n",
    "                score = minimax(board, False)\n",
    "                board[i][j] = \" \"\n",
    "                if score > best_score:\n",
    "                    best_score = score\n",
    "                    move = (i, j)\n",
    "    return move\n",
    "\n",
    "def tic_tac_toe():\n",
    "    board = [[\" \" for _ in range(3)] for _ in range(3)]\n",
    "    print(\"Welcome to Tic-Tac-Toe! You are X, and I am O.\")\n",
    "\n",
    "    while True:\n",
    "        print_board(board)\n",
    "        winner = check_winner(board)\n",
    "        if winner:\n",
    "            print(f\"{winner} wins!\")\n",
    "            break\n",
    "        elif is_full(board):\n",
    "            print(\"It's a tie!\")\n",
    "            break\n",
    "\n",
    "        \n",
    "        while True:\n",
    "            try:\n",
    "                move = input(\"Enter your move (row and column: 1 1 for top-left): \")\n",
    "                row, col = map(int, move.split())\n",
    "                row, col = row - 1, col - 1\n",
    "                if board[row][col] == \" \":\n",
    "                    board[row][col] = \"X\"\n",
    "                    break\n",
    "                else:\n",
    "                    print(\"Cell is already occupied. Try again.\")\n",
    "            except (ValueError, IndexError):\n",
    "                print(\"Invalid input. Please enter row and column as two numbers between 1 and 3.\")\n",
    "\n",
    "        \n",
    "        if check_winner(board) or is_full(board):\n",
    "            continue\n",
    "\n",
    "        \n",
    "        ai_move = best_move(board)\n",
    "        if ai_move:\n",
    "            board[ai_move[0]][ai_move[1]] = \"O\"\n",
    "\n",
    "if __name__ == \"__main__\":\n",
    "    tic_tac_toe()\n"
   ]
  },
  {
   "cell_type": "markdown",
   "id": "84e8507f-0f9f-4da8-8d0b-abcafe5b7fef",
   "metadata": {},
   "source": [
    "TASK-3 RECOMMENDATION SYSTEM"
   ]
  },
  {
   "cell_type": "code",
   "execution_count": 5,
   "id": "1af32176-d7a4-4036-8f4d-939937d19aca",
   "metadata": {},
   "outputs": [
    {
     "name": "stdout",
     "output_type": "stream",
     "text": [
      "Welcome to the Recommendation System!\n",
      "Enter user ratings. When done, type 'done'.\n"
     ]
    },
    {
     "name": "stdin",
     "output_type": "stream",
     "text": [
      "Enter username (or type 'done' to finish):  Divya\n"
     ]
    },
    {
     "name": "stdout",
     "output_type": "stream",
     "text": [
      "Enter items and ratings for Divya (format: item rating). Type 'done' when finished.\n"
     ]
    },
    {
     "name": "stdin",
     "output_type": "stream",
     "text": [
      "Item and rating:  honda: bike\n"
     ]
    },
    {
     "name": "stdout",
     "output_type": "stream",
     "text": [
      "Invalid format. Use: item rating\n"
     ]
    },
    {
     "name": "stdin",
     "output_type": "stream",
     "text": [
      "Item and rating:  honda bike\n"
     ]
    },
    {
     "name": "stdout",
     "output_type": "stream",
     "text": [
      "Invalid format. Use: item rating\n"
     ]
    },
    {
     "name": "stdin",
     "output_type": "stream",
     "text": [
      "Item and rating:  book \n"
     ]
    },
    {
     "name": "stdout",
     "output_type": "stream",
     "text": [
      "Invalid format. Use: item rating\n"
     ]
    },
    {
     "name": "stdin",
     "output_type": "stream",
     "text": [
      "Item and rating:  book harry\n"
     ]
    },
    {
     "name": "stdout",
     "output_type": "stream",
     "text": [
      "Invalid format. Use: item rating\n"
     ]
    },
    {
     "name": "stdin",
     "output_type": "stream",
     "text": [
      "Item and rating:  book 5\n",
      "Item and rating:  shoes 4\n",
      "Item and rating:  clock 3\n",
      "Item and rating:  watch 7\n",
      "Item and rating:  done\n",
      "Enter username (or type 'done' to finish):  done\n",
      "Enter the target user for recommendations:  divya\n"
     ]
    },
    {
     "name": "stdout",
     "output_type": "stream",
     "text": [
      "No data available for user divya.\n"
     ]
    }
   ],
   "source": [
    "import math\n",
    "from collections import defaultdict\n",
    "\n",
    "def calculate_similarity(user_ratings, target_user):\n",
    "    similarities = {}\n",
    "    for user, ratings in user_ratings.items():\n",
    "        if user == target_user:\n",
    "            continue\n",
    "\n",
    "        common_items = set(ratings.keys()).intersection(user_ratings[target_user].keys())\n",
    "        if not common_items:\n",
    "            continue\n",
    "\n",
    "        \n",
    "        numerator = sum(ratings[item] * user_ratings[target_user][item] for item in common_items)\n",
    "        denominator_a = math.sqrt(sum(ratings[item]**2 for item in ratings))\n",
    "        denominator_b = math.sqrt(sum(user_ratings[target_user][item]**2 for item in user_ratings[target_user]))\n",
    "\n",
    "        if denominator_a * denominator_b > 0:\n",
    "            similarities[user] = numerator / (denominator_a * denominator_b)\n",
    "    return similarities\n",
    "\n",
    "def recommend_items(user_ratings, target_user, top_n=3):\n",
    "    similarities = calculate_similarity(user_ratings, target_user)\n",
    "    if not similarities:\n",
    "        return []\n",
    "\n",
    "    \n",
    "    recommendation_scores = defaultdict(float)\n",
    "    similarity_sums = defaultdict(float)\n",
    "\n",
    "    for similar_user, similarity in similarities.items():\n",
    "        for item, rating in user_ratings[similar_user].items():\n",
    "            if item not in user_ratings[target_user]:\n",
    "                recommendation_scores[item] += similarity * rating\n",
    "                similarity_sums[item] += similarity\n",
    "\n",
    "    \n",
    "    for item in recommendation_scores:\n",
    "        recommendation_scores[item] /= similarity_sums[item]\n",
    "\n",
    "   \n",
    "    recommended_items = sorted(recommendation_scores.items(), key=lambda x: x[1], reverse=True)\n",
    "    return [item for item, score in recommended_items[:top_n]]\n",
    "\n",
    "def main():\n",
    "    user_ratings = {}\n",
    "\n",
    "    print(\"Welcome to the Recommendation System!\")\n",
    "    print(\"Enter user ratings. When done, type 'done'.\")\n",
    "\n",
    "    while True:\n",
    "        user = input(\"Enter username (or type 'done' to finish): \").strip()\n",
    "        if user.lower() == 'done':\n",
    "            break\n",
    "\n",
    "        user_ratings[user] = {}\n",
    "        print(f\"Enter items and ratings for {user} (format: item rating). Type 'done' when finished.\")\n",
    "\n",
    "        while True:\n",
    "            entry = input(\"Item and rating: \").strip()\n",
    "            if entry.lower() == 'done':\n",
    "                break\n",
    "            try:\n",
    "                item, rating = entry.split()\n",
    "                user_ratings[user][item] = int(rating)\n",
    "            except ValueError:\n",
    "                print(\"Invalid format. Use: item rating\")\n",
    "\n",
    "    target_user = input(\"Enter the target user for recommendations: \").strip()\n",
    "    if target_user not in user_ratings:\n",
    "        print(f\"No data available for user {target_user}.\")\n",
    "        return\n",
    "\n",
    "    top_n = input(\"Enter the number of recommendations you want (default is 3): \").strip()\n",
    "    try:\n",
    "        top_n = int(top_n)\n",
    "    except ValueError:\n",
    "        top_n = 3\n",
    "\n",
    "    print(f\"Recommendations for {target_user}:\")\n",
    "    recommendations = recommend_items(user_ratings, target_user, top_n)\n",
    "    print(recommendations if recommendations else \"No recommendations available.\")\n",
    "\n",
    "if __name__ == \"__main__\":\n",
    "    main()\n"
   ]
  },
  {
   "cell_type": "code",
   "execution_count": null,
   "id": "d3fea4fc-cde3-4726-a0be-13575a7b42d3",
   "metadata": {},
   "outputs": [],
   "source": []
  }
 ],
 "metadata": {
  "kernelspec": {
   "display_name": "Python 3 (ipykernel)",
   "language": "python",
   "name": "python3"
  },
  "language_info": {
   "codemirror_mode": {
    "name": "ipython",
    "version": 3
   },
   "file_extension": ".py",
   "mimetype": "text/x-python",
   "name": "python",
   "nbconvert_exporter": "python",
   "pygments_lexer": "ipython3",
   "version": "3.12.4"
  }
 },
 "nbformat": 4,
 "nbformat_minor": 5
}
